{
  "nbformat": 4,
  "nbformat_minor": 0,
  "metadata": {
    "colab": {
      "provenance": []
    },
    "kernelspec": {
      "name": "python3",
      "display_name": "Python 3"
    },
    "language_info": {
      "name": "python"
    }
  },
  "cells": [
    {
      "cell_type": "markdown",
      "source": [
        "# Polynomial Derivatives"
      ],
      "metadata": {
        "id": "Yn0VYYOY3Lb7"
      }
    },
    {
      "cell_type": "code",
      "execution_count": null,
      "metadata": {
        "id": "Dg5gDmU93HJB"
      },
      "outputs": [],
      "source": [
        "class PolyExpr:\n",
        "    def __init__(self, expr, varstr=\"x\"):\n",
        "        if isinstance(expr, tuple):\n",
        "            self.expr = expr\n",
        "        self.varstr = varstr\n",
        "\n",
        "    def __repr__(self):\n",
        "        result = []\n",
        "        for i, coeff in sorted(enumerate(self.expr), reverse=True):\n",
        "            term = \"\"\n",
        "            if coeff == 0:\n",
        "                continue\n",
        "            term += str(coeff)\n",
        "            var = \"\" if i == 0 else (self.varstr if i == 1 else f\"{self.varstr}^{i}\")\n",
        "            term += var\n",
        "            result.append(term)\n",
        "        return \" + \".join(result)"
      ]
    },
    {
      "cell_type": "code",
      "source": [
        "expr1 = PolyExpr((2, 4, 6))\n",
        "print(expr1)\n",
        "expr2 = PolyExpr((41, 212, 100), varstr=\"y\")\n",
        "print(expr2)\n",
        "expr3 = PolyExpr((0, 11, 22, 33, 44, 55, 0, 77), varstr=\"z\")\n",
        "print(expr3)"
      ],
      "metadata": {
        "colab": {
          "base_uri": "https://localhost:8080/"
        },
        "id": "Xl36-F2r5MoS",
        "outputId": "ffef076d-c104-4591-dde9-b33527f5109f"
      },
      "execution_count": null,
      "outputs": [
        {
          "output_type": "stream",
          "name": "stdout",
          "text": [
            "6x^2 + 4x + 2\n",
            "100y^2 + 212y + 41\n",
            "77z^7 + 55z^5 + 44z^4 + 33z^3 + 22z^2 + 11z\n"
          ]
        }
      ]
    },
    {
      "cell_type": "code",
      "source": [
        "def polynomial_derivative(expr):\n",
        "    result = []\n",
        "    for i, coeff in enumerate(expr.expr):\n",
        "        if i == 0:\n",
        "            continue\n",
        "        result.append(coeff * i)\n",
        "    return PolyExpr(tuple(result), expr.varstr)"
      ],
      "metadata": {
        "id": "1RjGampe7ifu"
      },
      "execution_count": null,
      "outputs": []
    },
    {
      "cell_type": "code",
      "source": [
        "expr1 = PolyExpr((2, 4, 6.5))\n",
        "print(expr1)\n",
        "print(polynomial_derivative(expr1), end=\"\\n\\n\")\n",
        "\n",
        "expr2 = PolyExpr((41, 6, 0, 4, 11))\n",
        "print(expr2)\n",
        "print(polynomial_derivative(expr2), end=\"\\n\\n\")\n",
        "\n",
        "expr3 = PolyExpr((4, -5, -72, 83))\n",
        "print(expr3)\n",
        "print(polynomial_derivative(expr3))\n",
        "print(polynomial_derivative(polynomial_derivative(expr3)))"
      ],
      "metadata": {
        "colab": {
          "base_uri": "https://localhost:8080/"
        },
        "id": "kDPOES_I8VOJ",
        "outputId": "65ba5d53-4d2a-4a9b-bc95-43c3158bbc00"
      },
      "execution_count": null,
      "outputs": [
        {
          "output_type": "stream",
          "name": "stdout",
          "text": [
            "6.5x^2 + 4x + 2\n",
            "13.0x + 4\n",
            "\n",
            "11x^4 + 4x^3 + 6x + 41\n",
            "44x^3 + 12x^2 + 6\n",
            "\n",
            "83x^3 + -72x^2 + -5x + 4\n",
            "249x^2 + -144x + -5\n",
            "498x + -144\n"
          ]
        }
      ]
    },
    {
      "cell_type": "markdown",
      "source": [
        "# Simple Expressions\n",
        "Sum of powers, basic trig functions with powers, ln, and e^x"
      ],
      "metadata": {
        "id": "xe5xQnX2-8oZ"
      }
    },
    {
      "cell_type": "code",
      "source": [
        "MAX_EXPONENT = 10\n",
        "OPERATIONS = ['power', 'sin', 'cos', 'ln', 'e']\n",
        "NUM_OPERATIONS = len(OPERATIONS)\n",
        "POWER_IDX, SIN_IDX, COS_IDX, LN_IDX, E_IDX = range(0, MAX_EXPONENT * NUM_OPERATIONS, MAX_EXPONENT)\n",
        "EXPR_LIST_SIZE = MAX_EXPONENT * NUM_OPERATIONS\n",
        "\n",
        "class SimpleExpr:\n",
        "    def __init__(self, expr, varstr='x'):\n",
        "        if expr is not None:\n",
        "            self.expr = expr.copy()\n",
        "        else:\n",
        "            self.expr = [0] * EXPR_LIST_SIZE\n",
        "        self.varstr = varstr\n",
        "    \n",
        "    def __repr__(self):\n",
        "        result = []\n",
        "        exponent = 1\n",
        "        operation_idx = 0\n",
        "        operation = OPERATIONS[0]\n",
        "        for i in range(len(self.expr)):\n",
        "            if exponent == MAX_EXPONENT + 1:\n",
        "                exponent = 1\n",
        "                operation_idx += 1\n",
        "                if operation_idx == NUM_OPERATIONS:\n",
        "                    break\n",
        "                operation = OPERATIONS[operation_idx]\n",
        "            coeff = self.expr[i]\n",
        "            if coeff == 0:\n",
        "                exponent += 1\n",
        "                continue\n",
        "            coeff_str = str(coeff if coeff != 1 else \"\")\n",
        "            exponent_str = f'^{exponent}' if exponent != 1 else \"\"\n",
        "            if operation == 'power':\n",
        "                term = f'{coeff_str}{self.varstr}{exponent_str}'\n",
        "            elif operation == 'sin':\n",
        "                term = f'{coeff_str}sin{exponent_str}({self.varstr})'\n",
        "            elif operation == 'cos':\n",
        "                term = f'{coeff_str}cos{exponent_str}({self.varstr})'\n",
        "            elif operation == 'ln':\n",
        "                term = f'{coeff_str}ln{exponent_str}({self.varstr})'\n",
        "            elif operation == 'e':\n",
        "                term = f'{coeff_str}e^({exponent if exponent != 1 else \"\"}{self.varstr})'\n",
        "\n",
        "            result.append(term)\n",
        "            exponent += 1\n",
        "\n",
        "        return \" + \".join(result) + \" + C\""
      ],
      "metadata": {
        "id": "G_ZUHXIz_Sjm"
      },
      "execution_count": null,
      "outputs": []
    },
    {
      "cell_type": "code",
      "source": [
        "l1 = [3] * EXPR_LIST_SIZE\n",
        "e1 = SimpleExpr(l1)\n",
        "print(e1, end='\\n\\n')\n",
        "\n",
        "l2 = [0] * EXPR_LIST_SIZE\n",
        "l2[4] = 5\n",
        "l2[16] = 73\n",
        "l2[22] = 534\n",
        "l2[49] = 200\n",
        "e2 = SimpleExpr(l2)\n",
        "print(e2, end='\\n\\n')"
      ],
      "metadata": {
        "colab": {
          "base_uri": "https://localhost:8080/"
        },
        "id": "ooX8CO6gHm0B",
        "outputId": "bdfcecb2-7734-4e35-b275-132dc8a00a14"
      },
      "execution_count": null,
      "outputs": [
        {
          "output_type": "stream",
          "name": "stdout",
          "text": [
            "3x + 3x^2 + 3x^3 + 3x^4 + 3x^5 + 3x^6 + 3x^7 + 3x^8 + 3x^9 + 3x^10 + 3sin(x) + 3sin^2(x) + 3sin^3(x) + 3sin^4(x) + 3sin^5(x) + 3sin^6(x) + 3sin^7(x) + 3sin^8(x) + 3sin^9(x) + 3sin^10(x) + 3cos(x) + 3cos^2(x) + 3cos^3(x) + 3cos^4(x) + 3cos^5(x) + 3cos^6(x) + 3cos^7(x) + 3cos^8(x) + 3cos^9(x) + 3cos^10(x) + 3ln(x) + 3ln^2(x) + 3ln^3(x) + 3ln^4(x) + 3ln^5(x) + 3ln^6(x) + 3ln^7(x) + 3ln^8(x) + 3ln^9(x) + 3ln^10(x) + 3e^(x) + 3e^(2x) + 3e^(3x) + 3e^(4x) + 3e^(5x) + 3e^(6x) + 3e^(7x) + 3e^(8x) + 3e^(9x) + 3e^(10x) + C\n",
            "\n",
            "5x^5 + 73sin^7(x) + 534cos^3(x) + 200e^(10x) + C\n",
            "\n"
          ]
        }
      ]
    },
    {
      "cell_type": "code",
      "source": [
        "DERIV_LIST_SIZE = EXPR_LIST_SIZE + 1\n",
        "\n",
        "class Derivative():\n",
        "    def __init__(self, expr, varstr='x'):\n",
        "        if expr is not None:\n",
        "            self.expr = expr.copy()\n",
        "        else:\n",
        "            self.expr = [0] * DERIV_LIST_SIZE\n",
        "        self.varstr = varstr\n",
        "    \n",
        "    def __repr__(self):\n",
        "        result = []\n",
        "        exponent = 1\n",
        "        operation_idx = 0\n",
        "        operation = OPERATIONS[0]\n",
        "        for i in range(len(self.expr) - 1):\n",
        "            if exponent == MAX_EXPONENT + 1:\n",
        "                exponent = 1\n",
        "                operation_idx += 1\n",
        "                if operation_idx == NUM_OPERATIONS:\n",
        "                    break\n",
        "                operation = OPERATIONS[operation_idx]\n",
        "            coeff = self.expr[i]\n",
        "            if coeff == 0:\n",
        "                exponent += 1\n",
        "                continue\n",
        "            coeff_str = str(coeff if coeff != 1 else \"\")\n",
        "            exponent_str = f'^{exponent}' if exponent != 1 else \"\"\n",
        "            exponent_m1_str = f'^{exponent - 1}' if exponent - 1 != 1 else \"\"\n",
        "            if operation == 'power':\n",
        "                term = f'{coeff_str}{self.varstr}{exponent_str}'\n",
        "            elif operation == 'sin':\n",
        "                term = f'{coeff_str}{f\"sin{exponent_m1_str}({self.varstr})\" if exponent_str else \"\"}cos(x)'\n",
        "            elif operation == 'cos':\n",
        "                term = f'{coeff_str}{f\"cos{exponent_m1_str}({self.varstr})\" if exponent_str else \"\"}sin(x)'\n",
        "            elif operation == 'ln':\n",
        "                term = f'{coeff_str}{f\"ln{exponent_m1_str}({self.varstr})\" if exponent_str else \"\"}/x'\n",
        "            elif operation == 'e':\n",
        "                term = f'{coeff_str}e^({exponent if exponent != 1 else \"\"}{self.varstr})'\n",
        "\n",
        "            result.append(term)\n",
        "            exponent += 1\n",
        "        if self.expr[-1]:\n",
        "            result.append(str(self.expr[-1]))\n",
        "        return \" + \".join(result)"
      ],
      "metadata": {
        "id": "0EySg-6LYQh5"
      },
      "execution_count": null,
      "outputs": []
    },
    {
      "cell_type": "code",
      "source": [
        "l1 = [3] * DERIV_LIST_SIZE\n",
        "e1 = Derivative(l1)\n",
        "print(e1, end='\\n\\n')\n",
        "\n",
        "l2 = [0] * DERIV_LIST_SIZE\n",
        "l2[4] = 5\n",
        "l2[16] = 73\n",
        "l2[22] = 534\n",
        "l2[50] = 200\n",
        "e2 = Derivative(l2)\n",
        "print(e2, end='\\n\\n')"
      ],
      "metadata": {
        "colab": {
          "base_uri": "https://localhost:8080/"
        },
        "id": "siFHux7tcJ6s",
        "outputId": "d78262d0-9bce-4108-8e05-a64978d9aa80"
      },
      "execution_count": null,
      "outputs": [
        {
          "output_type": "stream",
          "name": "stdout",
          "text": [
            "3x + 3x^2 + 3x^3 + 3x^4 + 3x^5 + 3x^6 + 3x^7 + 3x^8 + 3x^9 + 3x^10 + 3cos(x) + 3sin(x)cos(x) + 3sin^2(x)cos(x) + 3sin^3(x)cos(x) + 3sin^4(x)cos(x) + 3sin^5(x)cos(x) + 3sin^6(x)cos(x) + 3sin^7(x)cos(x) + 3sin^8(x)cos(x) + 3sin^9(x)cos(x) + 3sin(x) + 3cos(x)sin(x) + 3cos^2(x)sin(x) + 3cos^3(x)sin(x) + 3cos^4(x)sin(x) + 3cos^5(x)sin(x) + 3cos^6(x)sin(x) + 3cos^7(x)sin(x) + 3cos^8(x)sin(x) + 3cos^9(x)sin(x) + 3/x + 3ln(x)/x + 3ln^2(x)/x + 3ln^3(x)/x + 3ln^4(x)/x + 3ln^5(x)/x + 3ln^6(x)/x + 3ln^7(x)/x + 3ln^8(x)/x + 3ln^9(x)/x + 3e^(x) + 3e^(2x) + 3e^(3x) + 3e^(4x) + 3e^(5x) + 3e^(6x) + 3e^(7x) + 3e^(8x) + 3e^(9x) + 3e^(10x) + 3\n",
            "\n",
            "5x^5 + 73sin^6(x)cos(x) + 534cos^2(x)sin(x) + 200\n",
            "\n"
          ]
        }
      ]
    },
    {
      "cell_type": "code",
      "source": [
        "\n",
        "def derivative(expr):\n",
        "    result = [0] * DERIV_LIST_SIZE\n",
        "    for i in range(POWER_IDX, POWER_IDX + MAX_EXPONENT):\n",
        "        if i == POWER_IDX:\n",
        "            result[-1] += expr[i]\n",
        "        else:\n",
        "            exponent = i - POWER_IDX + 1\n",
        "            result[i - 1] += exponent * expr[i]\n",
        "\n",
        "    for i in range(SIN_IDX, SIN_IDX + MAX_EXPONENT):\n",
        "        exponent = i - SIN_IDX + 1\n",
        "        result[i] += exponent * expr[i]\n",
        "\n",
        "    for i in range(COS_IDX, COS_IDX + MAX_EXPONENT):\n",
        "        exponent = i - COS_IDX + 1\n",
        "        result[i] -= exponent * expr[i]\n",
        "\n",
        "    for i in range(LN_IDX, LN_IDX + MAX_EXPONENT):\n",
        "        exponent = i - LN_IDX + 1\n",
        "        result[i] += exponent * expr[i]\n",
        "\n",
        "    for i in range(E_IDX, E_IDX + MAX_EXPONENT):\n",
        "        exponent = i - E_IDX + 1\n",
        "        result[i] += exponent * expr[i]\n",
        "    return result"
      ],
      "metadata": {
        "id": "0u9j-N841TbZ"
      },
      "execution_count": null,
      "outputs": []
    },
    {
      "cell_type": "code",
      "source": [
        "l1 = list(range(4, 55))\n",
        "print(SimpleExpr(l1))\n",
        "print(Derivative(derivative(l1)))"
      ],
      "metadata": {
        "colab": {
          "base_uri": "https://localhost:8080/"
        },
        "id": "clo6OBVB27en",
        "outputId": "a8d6395d-3e57-4d87-c420-84debc5d9aab"
      },
      "execution_count": null,
      "outputs": [
        {
          "output_type": "stream",
          "name": "stdout",
          "text": [
            "4x + 5x^2 + 6x^3 + 7x^4 + 8x^5 + 9x^6 + 10x^7 + 11x^8 + 12x^9 + 13x^10 + 14sin(x) + 15sin^2(x) + 16sin^3(x) + 17sin^4(x) + 18sin^5(x) + 19sin^6(x) + 20sin^7(x) + 21sin^8(x) + 22sin^9(x) + 23sin^10(x) + 24cos(x) + 25cos^2(x) + 26cos^3(x) + 27cos^4(x) + 28cos^5(x) + 29cos^6(x) + 30cos^7(x) + 31cos^8(x) + 32cos^9(x) + 33cos^10(x) + 34ln(x) + 35ln^2(x) + 36ln^3(x) + 37ln^4(x) + 38ln^5(x) + 39ln^6(x) + 40ln^7(x) + 41ln^8(x) + 42ln^9(x) + 43ln^10(x) + 44e^(x) + 45e^(2x) + 46e^(3x) + 47e^(4x) + 48e^(5x) + 49e^(6x) + 50e^(7x) + 51e^(8x) + 52e^(9x) + 53e^(10x) + C\n",
            "10x + 18x^2 + 28x^3 + 40x^4 + 54x^5 + 70x^6 + 88x^7 + 108x^8 + 130x^9 + 14cos(x) + 30sin(x)cos(x) + 48sin^2(x)cos(x) + 68sin^3(x)cos(x) + 90sin^4(x)cos(x) + 114sin^5(x)cos(x) + 140sin^6(x)cos(x) + 168sin^7(x)cos(x) + 198sin^8(x)cos(x) + 230sin^9(x)cos(x) + -24sin(x) + -50cos(x)sin(x) + -78cos^2(x)sin(x) + -108cos^3(x)sin(x) + -140cos^4(x)sin(x) + -174cos^5(x)sin(x) + -210cos^6(x)sin(x) + -248cos^7(x)sin(x) + -288cos^8(x)sin(x) + -330cos^9(x)sin(x) + 34/x + 70ln(x)/x + 108ln^2(x)/x + 148ln^3(x)/x + 190ln^4(x)/x + 234ln^5(x)/x + 280ln^6(x)/x + 328ln^7(x)/x + 378ln^8(x)/x + 430ln^9(x)/x + 44e^(x) + 90e^(2x) + 138e^(3x) + 188e^(4x) + 240e^(5x) + 294e^(6x) + 350e^(7x) + 408e^(8x) + 468e^(9x) + 530e^(10x) + 4\n"
          ]
        }
      ]
    },
    {
      "cell_type": "markdown",
      "source": [
        "# Example random expressions"
      ],
      "metadata": {
        "id": "HHuKONFyiVWg"
      }
    },
    {
      "cell_type": "code",
      "source": [
        "import random\n",
        "\n",
        "NUM_RANDOM_TERMS = 5\n",
        "NUM_RANDOM_EXPRESSIONS = 10\n",
        "\n",
        "for _ in range(NUM_RANDOM_EXPRESSIONS):\n",
        "    expr = [0] * EXPR_LIST_SIZE\n",
        "    for i in random.sample(range(EXPR_LIST_SIZE), NUM_RANDOM_TERMS):\n",
        "        expr[i] = random.randint(-100, 100)\n",
        "    print(\"Expression:\", SimpleExpr(expr))\n",
        "    print(\"Derivative:\", Derivative(derivative(expr)), end='\\n\\n')"
      ],
      "metadata": {
        "colab": {
          "base_uri": "https://localhost:8080/"
        },
        "id": "yTfmzADziYju",
        "outputId": "d46ebf37-b02d-44f8-f18c-b2dbf9469d88"
      },
      "execution_count": null,
      "outputs": [
        {
          "output_type": "stream",
          "name": "stdout",
          "text": [
            "Expression: -53sin^9(x) + 2cos(x) + 69cos^3(x) + 31cos^9(x) + -43cos^10(x) + C\n",
            "Derivative: -477sin^8(x)cos(x) + -2sin(x) + -207cos^2(x)sin(x) + -279cos^8(x)sin(x) + 430cos^9(x)sin(x)\n",
            "\n",
            "Expression: 24x + 67cos^2(x) + 8cos^7(x) + ln^9(x) + -58e^(10x) + C\n",
            "Derivative: -134cos(x)sin(x) + -56cos^6(x)sin(x) + 9ln^8(x)/x + -580e^(10x) + 24\n",
            "\n",
            "Expression: -6x^6 + -93x^8 + 36sin^7(x) + 58cos^4(x) + -51ln^3(x) + C\n",
            "Derivative: -36x^5 + -744x^7 + 252sin^6(x)cos(x) + -232cos^3(x)sin(x) + -153ln^2(x)/x\n",
            "\n",
            "Expression: -73sin^3(x) + 75cos^2(x) + -70cos^6(x) + -86cos^7(x) + -23e^(3x) + C\n",
            "Derivative: -219sin^2(x)cos(x) + -150cos(x)sin(x) + 420cos^5(x)sin(x) + 602cos^6(x)sin(x) + -69e^(3x)\n",
            "\n",
            "Expression: 83x^7 + -28x^8 + 75x^9 + -13cos^3(x) + 34cos^7(x) + C\n",
            "Derivative: 581x^6 + -224x^7 + 675x^8 + 39cos^2(x)sin(x) + -238cos^6(x)sin(x)\n",
            "\n",
            "Expression: -33sin^3(x) + -25sin^8(x) + 9cos^8(x) + -50ln(x) + -93e^(6x) + C\n",
            "Derivative: -99sin^2(x)cos(x) + -200sin^7(x)cos(x) + -72cos^7(x)sin(x) + -50/x + -558e^(6x)\n",
            "\n",
            "Expression: 3sin^6(x) + -89sin^7(x) + -16ln^6(x) + 82ln^8(x) + 39e^(4x) + C\n",
            "Derivative: 18sin^5(x)cos(x) + -623sin^6(x)cos(x) + -96ln^5(x)/x + 656ln^7(x)/x + 156e^(4x)\n",
            "\n",
            "Expression: -62x^5 + -19sin^8(x) + 36cos^3(x) + 96ln^8(x) + -91e^(5x) + C\n",
            "Derivative: -310x^4 + -152sin^7(x)cos(x) + -108cos^2(x)sin(x) + 768ln^7(x)/x + -455e^(5x)\n",
            "\n",
            "Expression: 88x + 32ln^2(x) + 10e^(4x) + -96e^(6x) + -6e^(7x) + C\n",
            "Derivative: 64ln(x)/x + 40e^(4x) + -576e^(6x) + -42e^(7x) + 88\n",
            "\n",
            "Expression: -9x^3 + -27sin(x) + 55ln^7(x) + -47ln^10(x) + -28e^(2x) + C\n",
            "Derivative: -27x^2 + -27cos(x) + 385ln^6(x)/x + -470ln^9(x)/x + -56e^(2x)\n",
            "\n"
          ]
        }
      ]
    },
    {
      "cell_type": "code",
      "source": [
        "\n",
        "import numpy as np\n",
        "\"\"\"\n",
        "for _ in range(NUM_RANDOM_EXPRESSIONS):\n",
        "    expr = np.random.rand(EXPR_LIST_SIZE)\n",
        "    print(expr)\n",
        "    print(\"Expression:\", SimpleExpr(expr))\n",
        "    print(\"Derivative:\", Derivative(derivative(expr)), end='\\n\\n')\n",
        "\"\"\"\n",
        "\"\""
      ],
      "metadata": {
        "id": "ygSa1XAKN6mZ",
        "colab": {
          "base_uri": "https://localhost:8080/",
          "height": 36
        },
        "outputId": "a90af2b3-9fb4-48b7-b8c1-0e18fbc56885"
      },
      "execution_count": null,
      "outputs": [
        {
          "output_type": "execute_result",
          "data": {
            "text/plain": [
              "''"
            ],
            "application/vnd.google.colaboratory.intrinsic+json": {
              "type": "string"
            }
          },
          "metadata": {},
          "execution_count": 37
        }
      ]
    },
    {
      "cell_type": "markdown",
      "source": [
        "# Model"
      ],
      "metadata": {
        "id": "IRW7sODlP00D"
      }
    },
    {
      "cell_type": "code",
      "source": [
        "X_train = []\n",
        "y_train = []\n",
        "for _ in range(10_000):\n",
        "    y_train.append(np.random.randint(-5, 5, size=EXPR_LIST_SIZE))\n",
        "    X_train.append(derivative(y_train[-1]))\n",
        "    if (_ % 1000 == 0):\n",
        "        print(_, \"iterations\")\n",
        "    \n",
        "\n",
        "X_test = []\n",
        "y_test = []\n",
        "for _ in range(2000):\n",
        "    y_test.append(np.random.randint(-5, 5, size=EXPR_LIST_SIZE))\n",
        "    X_test.append(derivative(y_test[-1]))\n",
        "\n",
        "X_train = np.array(X_train)\n",
        "y_train = np.array(y_train)\n",
        "X_test = np.array(X_test)\n",
        "y_test = np.array(y_test)\n",
        "\n",
        "print(X_train.shape)"
      ],
      "metadata": {
        "colab": {
          "base_uri": "https://localhost:8080/"
        },
        "id": "TuAYwz-VQ7hu",
        "outputId": "dedc4de4-27f0-40c5-af7f-33e4b17c35b6"
      },
      "execution_count": null,
      "outputs": [
        {
          "output_type": "stream",
          "name": "stdout",
          "text": [
            "0 iterations\n",
            "1000 iterations\n",
            "2000 iterations\n",
            "3000 iterations\n",
            "4000 iterations\n",
            "5000 iterations\n",
            "6000 iterations\n",
            "7000 iterations\n",
            "8000 iterations\n",
            "9000 iterations\n",
            "(10000, 51)\n"
          ]
        }
      ]
    },
    {
      "cell_type": "code",
      "source": [
        "print(X_train.shape, y_train.shape)\n",
        "print(X_train[1])\n",
        "print(y_train[1])"
      ],
      "metadata": {
        "colab": {
          "base_uri": "https://localhost:8080/"
        },
        "id": "OD46qw23htkg",
        "outputId": "7abd66ec-03a7-42b0-f113-7c34ea20db1a"
      },
      "execution_count": null,
      "outputs": [
        {
          "output_type": "stream",
          "name": "stdout",
          "text": [
            "(10000, 51) (10000, 50)\n",
            "[ -4   3  12   5 -18  -7 -40  -9  10   0  -4   0  12  -4 -20  12  28  -8\n",
            "   0  10  -4  -8   9   8  -5  24  14  32 -18  50   1   2   0  -4 -10  12\n",
            "   7 -16 -36  10   2  -2   3   0  20  24 -14  32 -36 -40  -5]\n",
            "[-5 -2  1  3  1 -3 -1 -5 -1  1 -4  0  4 -1 -4  2  4 -1  0  1  4  4 -3 -2\n",
            "  1 -4 -2 -4  2 -5  1  1  0 -1 -2  2  1 -2 -4  1  2 -1  1  0  4  4 -2  4\n",
            " -4 -4]\n"
          ]
        }
      ]
    },
    {
      "cell_type": "code",
      "source": [
        "from sklearn.linear_model import LinearRegression\n",
        "from sklearn.metrics import accuracy_score\n",
        "\n",
        "model = LinearRegression()\n",
        "model.fit(X_train, y_train)\n"
      ],
      "metadata": {
        "colab": {
          "base_uri": "https://localhost:8080/",
          "height": 74
        },
        "id": "GoXQ9aENGxEk",
        "outputId": "9ca3061e-9f80-4acd-e528-3937dafbbf71"
      },
      "execution_count": null,
      "outputs": [
        {
          "output_type": "execute_result",
          "data": {
            "text/plain": [
              "LinearRegression()"
            ],
            "text/html": [
              "<style>#sk-container-id-2 {color: black;background-color: white;}#sk-container-id-2 pre{padding: 0;}#sk-container-id-2 div.sk-toggleable {background-color: white;}#sk-container-id-2 label.sk-toggleable__label {cursor: pointer;display: block;width: 100%;margin-bottom: 0;padding: 0.3em;box-sizing: border-box;text-align: center;}#sk-container-id-2 label.sk-toggleable__label-arrow:before {content: \"▸\";float: left;margin-right: 0.25em;color: #696969;}#sk-container-id-2 label.sk-toggleable__label-arrow:hover:before {color: black;}#sk-container-id-2 div.sk-estimator:hover label.sk-toggleable__label-arrow:before {color: black;}#sk-container-id-2 div.sk-toggleable__content {max-height: 0;max-width: 0;overflow: hidden;text-align: left;background-color: #f0f8ff;}#sk-container-id-2 div.sk-toggleable__content pre {margin: 0.2em;color: black;border-radius: 0.25em;background-color: #f0f8ff;}#sk-container-id-2 input.sk-toggleable__control:checked~div.sk-toggleable__content {max-height: 200px;max-width: 100%;overflow: auto;}#sk-container-id-2 input.sk-toggleable__control:checked~label.sk-toggleable__label-arrow:before {content: \"▾\";}#sk-container-id-2 div.sk-estimator input.sk-toggleable__control:checked~label.sk-toggleable__label {background-color: #d4ebff;}#sk-container-id-2 div.sk-label input.sk-toggleable__control:checked~label.sk-toggleable__label {background-color: #d4ebff;}#sk-container-id-2 input.sk-hidden--visually {border: 0;clip: rect(1px 1px 1px 1px);clip: rect(1px, 1px, 1px, 1px);height: 1px;margin: -1px;overflow: hidden;padding: 0;position: absolute;width: 1px;}#sk-container-id-2 div.sk-estimator {font-family: monospace;background-color: #f0f8ff;border: 1px dotted black;border-radius: 0.25em;box-sizing: border-box;margin-bottom: 0.5em;}#sk-container-id-2 div.sk-estimator:hover {background-color: #d4ebff;}#sk-container-id-2 div.sk-parallel-item::after {content: \"\";width: 100%;border-bottom: 1px solid gray;flex-grow: 1;}#sk-container-id-2 div.sk-label:hover label.sk-toggleable__label {background-color: #d4ebff;}#sk-container-id-2 div.sk-serial::before {content: \"\";position: absolute;border-left: 1px solid gray;box-sizing: border-box;top: 0;bottom: 0;left: 50%;z-index: 0;}#sk-container-id-2 div.sk-serial {display: flex;flex-direction: column;align-items: center;background-color: white;padding-right: 0.2em;padding-left: 0.2em;position: relative;}#sk-container-id-2 div.sk-item {position: relative;z-index: 1;}#sk-container-id-2 div.sk-parallel {display: flex;align-items: stretch;justify-content: center;background-color: white;position: relative;}#sk-container-id-2 div.sk-item::before, #sk-container-id-2 div.sk-parallel-item::before {content: \"\";position: absolute;border-left: 1px solid gray;box-sizing: border-box;top: 0;bottom: 0;left: 50%;z-index: -1;}#sk-container-id-2 div.sk-parallel-item {display: flex;flex-direction: column;z-index: 1;position: relative;background-color: white;}#sk-container-id-2 div.sk-parallel-item:first-child::after {align-self: flex-end;width: 50%;}#sk-container-id-2 div.sk-parallel-item:last-child::after {align-self: flex-start;width: 50%;}#sk-container-id-2 div.sk-parallel-item:only-child::after {width: 0;}#sk-container-id-2 div.sk-dashed-wrapped {border: 1px dashed gray;margin: 0 0.4em 0.5em 0.4em;box-sizing: border-box;padding-bottom: 0.4em;background-color: white;}#sk-container-id-2 div.sk-label label {font-family: monospace;font-weight: bold;display: inline-block;line-height: 1.2em;}#sk-container-id-2 div.sk-label-container {text-align: center;}#sk-container-id-2 div.sk-container {/* jupyter's `normalize.less` sets `[hidden] { display: none; }` but bootstrap.min.css set `[hidden] { display: none !important; }` so we also need the `!important` here to be able to override the default hidden behavior on the sphinx rendered scikit-learn.org. See: https://github.com/scikit-learn/scikit-learn/issues/21755 */display: inline-block !important;position: relative;}#sk-container-id-2 div.sk-text-repr-fallback {display: none;}</style><div id=\"sk-container-id-2\" class=\"sk-top-container\"><div class=\"sk-text-repr-fallback\"><pre>LinearRegression()</pre><b>In a Jupyter environment, please rerun this cell to show the HTML representation or trust the notebook. <br />On GitHub, the HTML representation is unable to render, please try loading this page with nbviewer.org.</b></div><div class=\"sk-container\" hidden><div class=\"sk-item\"><div class=\"sk-estimator sk-toggleable\"><input class=\"sk-toggleable__control sk-hidden--visually\" id=\"sk-estimator-id-2\" type=\"checkbox\" checked><label for=\"sk-estimator-id-2\" class=\"sk-toggleable__label sk-toggleable__label-arrow\">LinearRegression</label><div class=\"sk-toggleable__content\"><pre>LinearRegression()</pre></div></div></div></div></div>"
            ]
          },
          "metadata": {},
          "execution_count": 40
        }
      ]
    },
    {
      "cell_type": "code",
      "source": [
        "yhat = np.rint(model.predict(X_test))\n",
        "y_test = np.rint(y_test)\n",
        "\n",
        "print(\"Expression:\", Derivative(X_test[0]), X_test[0], sep=\"\\n\", end=\"\\n\\n\\n\")\n",
        "\n",
        "print(\"Prediction:\", SimpleExpr(yhat[0]), yhat[0], sep=\"\\n\", end=\"\\n\\n\\n\")\n",
        "\n",
        "print(\"True:\", SimpleExpr(y_test[0]), y_test[0], sep=\"\\n\", end=\"\\n\\n\\n\")\n"
      ],
      "metadata": {
        "colab": {
          "base_uri": "https://localhost:8080/"
        },
        "id": "9o0bRR64bVDr",
        "outputId": "ed9696b5-dc8b-4cb3-c98a-ce115d273d16"
      },
      "execution_count": null,
      "outputs": [
        {
          "output_type": "stream",
          "name": "stdout",
          "text": [
            "Expression:\n",
            "-10x + -12x^2 + -16x^3 + 10x^4 + 18x^5 + -14x^6 + 24x^7 + 36x^8 + 10x^9 + -1cos(x) + 4sin(x)cos(x) + 6sin^2(x)cos(x) + -16sin^3(x)cos(x) + -5sin^4(x)cos(x) + 18sin^5(x)cos(x) + 28sin^6(x)cos(x) + 24sin^7(x)cos(x) + -9sin^8(x)cos(x) + -30sin^9(x)cos(x) + -2sin(x) + -4cos(x)sin(x) + 12cos^2(x)sin(x) + -8cos^3(x)sin(x) + 10cos^4(x)sin(x) + 6cos^5(x)sin(x) + 28cos^6(x)sin(x) + 8cos^7(x)sin(x) + 27cos^8(x)sin(x) + -30cos^9(x)sin(x) + 2/x + 2ln(x)/x + 12ln^2(x)/x + -16ln^3(x)/x + 10ln^4(x)/x + 6ln^5(x)/x + 16ln^7(x)/x + 36ln^8(x)/x + -50ln^9(x)/x + -1e^(x) + -2e^(2x) + -6e^(3x) + 16e^(4x) + -25e^(5x) + -6e^(6x) + 7e^(7x) + -18e^(9x) + 30e^(10x) + 4\n",
            "[-10 -12 -16  10  18 -14  24  36  10   0  -1   4   6 -16  -5  18  28  24\n",
            "  -9 -30  -2  -4  12  -8  10   6  28   8  27 -30   2   2  12 -16  10   6\n",
            "   0  16  36 -50  -1  -2  -6  16 -25  -6   7   0 -18  30   4]\n",
            "\n",
            "\n",
            "Prediction:\n",
            "4.0x + -5.0x^2 + -4.0x^3 + -4.0x^4 + 2.0x^5 + 3.0x^6 + -2.0x^7 + 3.0x^8 + 4.0x^9 + x^10 + -1.0sin(x) + 2.0sin^2(x) + 2.0sin^3(x) + -4.0sin^4(x) + -1.0sin^5(x) + 3.0sin^6(x) + 4.0sin^7(x) + 3.0sin^8(x) + -1.0sin^9(x) + -3.0sin^10(x) + 2.0cos(x) + 2.0cos^2(x) + -4.0cos^3(x) + 2.0cos^4(x) + -2.0cos^5(x) + -1.0cos^6(x) + -4.0cos^7(x) + -1.0cos^8(x) + -3.0cos^9(x) + 3.0cos^10(x) + 2.0ln(x) + ln^2(x) + 4.0ln^3(x) + -4.0ln^4(x) + 2.0ln^5(x) + ln^6(x) + 2.0ln^8(x) + 4.0ln^9(x) + -5.0ln^10(x) + -1.0e^(x) + -1.0e^(2x) + -2.0e^(3x) + 4.0e^(4x) + -5.0e^(5x) + -1.0e^(6x) + e^(7x) + -2.0e^(9x) + 3.0e^(10x) + C\n",
            "[ 4. -5. -4. -4.  2.  3. -2.  3.  4.  1. -1.  2.  2. -4. -1.  3.  4.  3.\n",
            " -1. -3.  2.  2. -4.  2. -2. -1. -4. -1. -3.  3.  2.  1.  4. -4.  2.  1.\n",
            "  0.  2.  4. -5. -1. -1. -2.  4. -5. -1.  1.  0. -2.  3.]\n",
            "\n",
            "\n",
            "True:\n",
            "4.0x + -5.0x^2 + -4.0x^3 + -4.0x^4 + 2.0x^5 + 3.0x^6 + -2.0x^7 + 3.0x^8 + 4.0x^9 + x^10 + -1.0sin(x) + 2.0sin^2(x) + 2.0sin^3(x) + -4.0sin^4(x) + -1.0sin^5(x) + 3.0sin^6(x) + 4.0sin^7(x) + 3.0sin^8(x) + -1.0sin^9(x) + -3.0sin^10(x) + 2.0cos(x) + 2.0cos^2(x) + -4.0cos^3(x) + 2.0cos^4(x) + -2.0cos^5(x) + -1.0cos^6(x) + -4.0cos^7(x) + -1.0cos^8(x) + -3.0cos^9(x) + 3.0cos^10(x) + 2.0ln(x) + ln^2(x) + 4.0ln^3(x) + -4.0ln^4(x) + 2.0ln^5(x) + ln^6(x) + 2.0ln^8(x) + 4.0ln^9(x) + -5.0ln^10(x) + -1.0e^(x) + -1.0e^(2x) + -2.0e^(3x) + 4.0e^(4x) + -5.0e^(5x) + -1.0e^(6x) + e^(7x) + -2.0e^(9x) + 3.0e^(10x) + C\n",
            "[ 4. -5. -4. -4.  2.  3. -2.  3.  4.  1. -1.  2.  2. -4. -1.  3.  4.  3.\n",
            " -1. -3.  2.  2. -4.  2. -2. -1. -4. -1. -3.  3.  2.  1.  4. -4.  2.  1.\n",
            "  0.  2.  4. -5. -1. -1. -2.  4. -5. -1.  1.  0. -2.  3.]\n",
            "\n",
            "\n"
          ]
        }
      ]
    },
    {
      "cell_type": "code",
      "source": [
        "\n",
        "\n",
        "for i in range(len(y_test)):\n",
        "    if accuracy_score(y_test[i], yhat[i]) != 1.0:\n",
        "        print(accuracy_score(y_test[i], yhat[i]))\n",
        "        break\n",
        "else:\n",
        "    print(\"All results matched\")"
      ],
      "metadata": {
        "colab": {
          "base_uri": "https://localhost:8080/"
        },
        "id": "JN2yh5tMN-wb",
        "outputId": "426f4f78-9101-483e-91c2-c6927264a2ad"
      },
      "execution_count": null,
      "outputs": [
        {
          "output_type": "stream",
          "name": "stdout",
          "text": [
            "All results matched\n"
          ]
        }
      ]
    },
    {
      "cell_type": "code",
      "source": [
        "\"\"\"\n",
        "#Dependencies\n",
        "#https://machinelearningmastery.com/multi-output-regression-models-with-python/\n",
        "#   #2 multi-output regression\n",
        "import keras\n",
        "from keras.models import Sequential\n",
        "from keras.layers import Dense\n",
        "# Neural network\n",
        "model = Sequential()\n",
        "model.add(Dense(EXPR_LIST_SIZE, input_dim=EXPR_LIST_SIZE, activation='celu'))\n",
        "model.add(Dense(EXPR_LIST_SIZE, activation='selu'))\n",
        "model.summary()\n",
        "\"\"\"\n",
        "print()"
      ],
      "metadata": {
        "id": "R4nHn3qTP37K",
        "colab": {
          "base_uri": "https://localhost:8080/"
        },
        "outputId": "c7eb9a56-2d79-43c0-8bfb-199a90109b32"
      },
      "execution_count": null,
      "outputs": [
        {
          "output_type": "stream",
          "name": "stdout",
          "text": [
            "\n"
          ]
        }
      ]
    },
    {
      "cell_type": "code",
      "source": [
        "#model.compile(loss='mean_squared_error', optimizer='adam', metrics=['accuracy'])"
      ],
      "metadata": {
        "id": "m65qM_LoQyPw"
      },
      "execution_count": null,
      "outputs": []
    },
    {
      "cell_type": "code",
      "source": [
        "#history = model.fit(X_train, y_train, epochs=20, batch_size=100_000)\n"
      ],
      "metadata": {
        "id": "G2Cd29t0QzW_"
      },
      "execution_count": null,
      "outputs": []
    },
    {
      "cell_type": "code",
      "source": [],
      "metadata": {
        "id": "jUkLN-IZLtwG"
      },
      "execution_count": null,
      "outputs": []
    }
  ]
}